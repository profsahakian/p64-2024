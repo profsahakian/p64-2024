{
 "cells": [
  {
   "cell_type": "markdown",
   "id": "a333d842-54e8-4f50-9e2b-a212419b858e",
   "metadata": {
    "hide_input": true,
    "tags": []
   },
   "source": [
    "# Recitation Session 1"
   ]
  },
  {
   "cell_type": "markdown",
   "id": "a4f23ba1-dba5-462e-a1ac-4c9ab2e67456",
   "metadata": {},
   "source": [
    "## Setup"
   ]
  },
  {
   "cell_type": "markdown",
   "id": "56e5ba1d-5f7e-4af1-9cf7-984456cdbf94",
   "metadata": {},
   "source": [
    "https://saeta.physics.hmc.edu/p064/SW-Installation.html#configuration"
   ]
  },
  {
   "cell_type": "markdown",
   "id": "290f82d5-87ce-4e83-be02-72e799f9803d",
   "metadata": {},
   "source": [
    "## Numpy tutorial"
   ]
  },
  {
   "cell_type": "markdown",
   "id": "6def51ac",
   "metadata": {},
   "source": [
    "The following notebook is a shorter version of the following tutorial on Numpy."
   ]
  },
  {
   "cell_type": "markdown",
   "id": "56fe97ea-53f8-4f84-b21c-182f1591c5a2",
   "metadata": {},
   "source": [
    "https://numpy.org/devdocs/user/quickstart.html"
   ]
  },
  {
   "cell_type": "markdown",
   "id": "ca55d3b9",
   "metadata": {},
   "source": [
    "We will be using Numpy and Scipy throughout the course (equivalent to Julia's built-in functionality). Here, we go over basics of Numpy, and your first \"homework\" is about exploring Scipy."
   ]
  },
  {
   "cell_type": "code",
   "execution_count": null,
   "id": "edac730b-a80e-42d4-99c7-d6f2a3f8dfd3",
   "metadata": {
    "tags": []
   },
   "outputs": [],
   "source": [
    "import numpy as np"
   ]
  },
  {
   "cell_type": "markdown",
   "id": "3104a1bd",
   "metadata": {},
   "source": [
    "Avoid using Python arrays; instead"
   ]
  },
  {
   "cell_type": "code",
   "execution_count": null,
   "id": "1044d366-dc5e-4474-8c15-c167b1d94b24",
   "metadata": {},
   "outputs": [],
   "source": [
    "b = np.array([6, 7, 8])\n",
    "b"
   ]
  },
  {
   "cell_type": "code",
   "execution_count": null,
   "id": "372ebe94-ccfe-4186-ba3d-496cc9d344a4",
   "metadata": {},
   "outputs": [],
   "source": [
    "b.dtype"
   ]
  },
  {
   "cell_type": "markdown",
   "id": "4244616d",
   "metadata": {},
   "source": [
    "Other ways of creating Numpy arrays"
   ]
  },
  {
   "cell_type": "code",
   "execution_count": null,
   "id": "7a7dc00e-68f1-4ff4-aa38-af34119d24d9",
   "metadata": {
    "tags": []
   },
   "outputs": [],
   "source": [
    "b = np.array([(1.5, 2, 3), (4, 5, 6)])\n",
    "b"
   ]
  },
  {
   "cell_type": "code",
   "execution_count": null,
   "id": "086df90a-65d1-41dc-93e2-9df3b0e87b39",
   "metadata": {},
   "outputs": [],
   "source": [
    "c = np.array([[1, 2], [3, 4]], dtype=complex)\n",
    "c"
   ]
  },
  {
   "cell_type": "code",
   "execution_count": null,
   "id": "7213134b-9160-49cd-b696-d8ba720ba8d8",
   "metadata": {},
   "outputs": [],
   "source": [
    "np.arange(0, 2, 0.3)"
   ]
  },
  {
   "cell_type": "code",
   "execution_count": null,
   "id": "de5a245a-dc27-44ad-bbb9-5b8866e173a3",
   "metadata": {},
   "outputs": [],
   "source": [
    "a = np.arange(15).reshape(3, 5)\n",
    "a"
   ]
  },
  {
   "cell_type": "code",
   "execution_count": null,
   "id": "35a50967-fdf9-4513-b82d-c8122d8a6e92",
   "metadata": {},
   "outputs": [],
   "source": [
    "a.shape"
   ]
  },
  {
   "cell_type": "code",
   "execution_count": null,
   "id": "496b4a96-bed1-4976-9b1e-6ab6972c7065",
   "metadata": {},
   "outputs": [],
   "source": [
    "a.size"
   ]
  },
  {
   "cell_type": "code",
   "execution_count": null,
   "id": "f9e2c379-d0e4-4add-902a-b9d483e3e30b",
   "metadata": {},
   "outputs": [],
   "source": [
    "type(a)"
   ]
  },
  {
   "cell_type": "markdown",
   "id": "5b8f1789",
   "metadata": {},
   "source": [
    "Here's how you can discretize a function"
   ]
  },
  {
   "cell_type": "code",
   "execution_count": null,
   "id": "d54f6a4d-3369-4693-bf5f-506bb15d610f",
   "metadata": {},
   "outputs": [],
   "source": [
    "from numpy import pi\n",
    "x = np.linspace(0, 2 * pi, 100)\n",
    "f = np.sin(x)\n",
    "f;"
   ]
  },
  {
   "cell_type": "code",
   "execution_count": null,
   "id": "313c107b",
   "metadata": {},
   "outputs": [],
   "source": [
    "import matplotlib.pyplot as plt\n",
    "plt.plot(f)"
   ]
  },
  {
   "cell_type": "markdown",
   "id": "96563be1",
   "metadata": {},
   "source": [
    "Numpy arrays are quite versatile"
   ]
  },
  {
   "cell_type": "code",
   "execution_count": null,
   "id": "1f6d33cb-a861-4736-a791-74bed46ca0f5",
   "metadata": {},
   "outputs": [],
   "source": [
    "a=np.array([ 9.12945251, -9.88031624,  7.4511316 , -2.62374854])\n",
    "a<35"
   ]
  },
  {
   "cell_type": "markdown",
   "id": "24603c9d",
   "metadata": {},
   "source": [
    "Here are different ways of multiplying arrays. Elementwise product:"
   ]
  },
  {
   "cell_type": "code",
   "execution_count": null,
   "id": "799775bf-874c-4693-b8de-0441994011d9",
   "metadata": {},
   "outputs": [],
   "source": [
    "A = np.array([[1, 1],\n",
    "              [0, 1]])\n",
    "B = np.array([[2, 0],\n",
    "              [3, 4]])\n",
    "A * B"
   ]
  },
  {
   "cell_type": "markdown",
   "id": "34a3ccea",
   "metadata": {},
   "source": [
    "Matrix product:"
   ]
  },
  {
   "cell_type": "code",
   "execution_count": null,
   "id": "9a43a3af-c9f6-4140-a125-2d5a4470fa15",
   "metadata": {},
   "outputs": [],
   "source": [
    "A @ B     "
   ]
  },
  {
   "cell_type": "markdown",
   "id": "cd9fb729",
   "metadata": {},
   "source": [
    "Another way of writing matrix product:"
   ]
  },
  {
   "cell_type": "code",
   "execution_count": null,
   "id": "30628d2c-5a62-4562-80ab-1570fa378431",
   "metadata": {},
   "outputs": [],
   "source": [
    "A.dot(B)"
   ]
  },
  {
   "cell_type": "markdown",
   "id": "bc2d2f6c",
   "metadata": {},
   "source": [
    "A matrix of random numbers"
   ]
  },
  {
   "cell_type": "code",
   "execution_count": null,
   "id": "d878faaa",
   "metadata": {},
   "outputs": [],
   "source": [
    "rg = np.random.default_rng(1) "
   ]
  },
  {
   "cell_type": "code",
   "execution_count": null,
   "id": "dd9fbccf-2bbc-48b4-ab4c-39795d9bec52",
   "metadata": {},
   "outputs": [],
   "source": [
    "b = rg.random((2, 3))\n",
    "b"
   ]
  },
  {
   "cell_type": "markdown",
   "id": "2c6bff33",
   "metadata": {},
   "source": [
    "Higher level operations"
   ]
  },
  {
   "cell_type": "code",
   "execution_count": null,
   "id": "82d82771-cca4-4ca4-a5b7-9ae04d373089",
   "metadata": {},
   "outputs": [],
   "source": [
    "d = np.exp(b * 1j)\n",
    "d"
   ]
  },
  {
   "cell_type": "code",
   "execution_count": null,
   "id": "61c39dd9-48e3-4b29-8d61-9b4dccb36371",
   "metadata": {
    "tags": []
   },
   "outputs": [],
   "source": [
    "d.dtype.name"
   ]
  },
  {
   "cell_type": "code",
   "execution_count": null,
   "id": "f105c645-82e6-478f-b3da-2be79def2d20",
   "metadata": {},
   "outputs": [],
   "source": [
    "a = rg.random((2, 3))\n",
    "a.sum()"
   ]
  },
  {
   "cell_type": "code",
   "execution_count": null,
   "id": "cde4b5c6-d232-414d-80d4-084614816844",
   "metadata": {},
   "outputs": [],
   "source": [
    "(a.min(),a.max())"
   ]
  },
  {
   "cell_type": "markdown",
   "id": "0a2123d8",
   "metadata": {},
   "source": [
    "Selecting from arrays"
   ]
  },
  {
   "cell_type": "code",
   "execution_count": null,
   "id": "6eef8722-b5b3-4a3a-ba8a-94fee008fb16",
   "metadata": {
    "tags": []
   },
   "outputs": [],
   "source": [
    "a = np.arange(10)**3\n",
    "a[2:5]"
   ]
  },
  {
   "cell_type": "code",
   "execution_count": null,
   "id": "ceaf0831-6d78-4b7a-9119-cc5afb7a1e08",
   "metadata": {},
   "outputs": [],
   "source": [
    "a[:6:2] = 1000\n",
    "a"
   ]
  },
  {
   "cell_type": "code",
   "execution_count": null,
   "id": "6a6898ad-6f10-448f-b9ac-26af4a4deb2c",
   "metadata": {
    "tags": []
   },
   "outputs": [],
   "source": [
    "a[::-1]"
   ]
  },
  {
   "cell_type": "code",
   "execution_count": null,
   "id": "e86fdd73-6e09-4c5c-b7fa-ba1f92a27037",
   "metadata": {},
   "outputs": [],
   "source": [
    "for i in a:\n",
    "    print(i**(1 / 3.))"
   ]
  },
  {
   "cell_type": "markdown",
   "id": "4affad5b",
   "metadata": {},
   "source": [
    "**IMPORTANT**: Numpy arrays are passed by address (not copied), and each selection of an array is a \"view\" of the same address same."
   ]
  },
  {
   "cell_type": "markdown",
   "id": "ccf29f19",
   "metadata": {},
   "source": [
    "Creating from functions"
   ]
  },
  {
   "cell_type": "code",
   "execution_count": null,
   "id": "bfad9425-9401-4d37-995e-ccf93e392931",
   "metadata": {},
   "outputs": [],
   "source": [
    "np.fromfunction(lambda i, j: i, (2, 2), dtype=float)"
   ]
  },
  {
   "cell_type": "code",
   "execution_count": null,
   "id": "5102c914-f7df-438e-8953-80de845d3a85",
   "metadata": {},
   "outputs": [],
   "source": [
    "def f(x, y):\n",
    "    return 10 * x + y\n",
    "\n",
    "b = np.fromfunction(f, (5, 4), dtype=int)\n",
    "b"
   ]
  },
  {
   "cell_type": "markdown",
   "id": "6ae21185",
   "metadata": {},
   "source": [
    "More selections"
   ]
  },
  {
   "cell_type": "code",
   "execution_count": null,
   "id": "65b1e738-1ade-4803-a162-1d0caf982451",
   "metadata": {},
   "outputs": [],
   "source": [
    "b[0:5, 1]  # each row in the second column of b"
   ]
  },
  {
   "cell_type": "code",
   "execution_count": null,
   "id": "958de6e9-9dde-40a9-893e-91c12d54b3bb",
   "metadata": {},
   "outputs": [],
   "source": [
    "b[:, 1]    # equivalent to the previous example"
   ]
  },
  {
   "cell_type": "code",
   "execution_count": null,
   "id": "0cdac0e9-d278-4d1c-880e-db4773b90440",
   "metadata": {},
   "outputs": [],
   "source": [
    "b[1:3, :]  # each column in the second and third row of b"
   ]
  },
  {
   "cell_type": "code",
   "execution_count": null,
   "id": "abb1c9cd-91c2-48f8-815b-fc99741e471f",
   "metadata": {
    "tags": []
   },
   "outputs": [],
   "source": [
    "b[-1]   # the last row. Equivalent to b[-1, :]"
   ]
  },
  {
   "cell_type": "markdown",
   "id": "7f625d4b",
   "metadata": {},
   "source": [
    "Combining arrays"
   ]
  },
  {
   "cell_type": "code",
   "execution_count": null,
   "id": "e6275666-2f44-48b6-a314-04d333d0b777",
   "metadata": {},
   "outputs": [],
   "source": [
    "import numpy as np\n",
    "rg = np.random.default_rng(1) \n",
    "\n",
    "a = np.floor(10 * rg.random((2, 2)))\n",
    "b = np.floor(10 * rg.random((2, 2)))\n",
    "print(\"a =\",a)\n",
    "print(\"b =\",b)\n",
    "\n",
    "np.vstack((a, b))"
   ]
  },
  {
   "cell_type": "code",
   "execution_count": null,
   "id": "b6a4afd8-311c-43ff-ab68-1f60d0f92baf",
   "metadata": {
    "tags": []
   },
   "outputs": [],
   "source": [
    "np.hstack((a, b))"
   ]
  },
  {
   "cell_type": "markdown",
   "id": "98db6677",
   "metadata": {},
   "source": [
    "Array reshaping and views"
   ]
  },
  {
   "cell_type": "code",
   "execution_count": null,
   "id": "de3c63c4-01fc-4a8a-8b3b-77eb5cd2303e",
   "metadata": {},
   "outputs": [],
   "source": [
    "a=np.array([1,2,3])\n",
    "a"
   ]
  },
  {
   "cell_type": "code",
   "execution_count": null,
   "id": "ce3e3c1e-a35e-4623-a5a6-251e70352f44",
   "metadata": {},
   "outputs": [],
   "source": [
    "b=a.reshape((3,1))\n",
    "b"
   ]
  },
  {
   "cell_type": "code",
   "execution_count": null,
   "id": "dbd03fa9-9262-46ef-b724-c6dbf599291a",
   "metadata": {},
   "outputs": [],
   "source": [
    "b is a"
   ]
  },
  {
   "cell_type": "code",
   "execution_count": null,
   "id": "7f3a3a5b-5a05-402b-8328-79924f9b7599",
   "metadata": {},
   "outputs": [],
   "source": [
    "b.base is a"
   ]
  },
  {
   "cell_type": "code",
   "execution_count": null,
   "id": "d58b4687-fcda-4813-9011-15555d8f21e7",
   "metadata": {},
   "outputs": [],
   "source": [
    "(id(a),id(b))"
   ]
  },
  {
   "cell_type": "code",
   "execution_count": null,
   "id": "824d64d4-bd07-411b-b1fe-dbd4a1cefebd",
   "metadata": {},
   "outputs": [],
   "source": [
    "c = a.view()\n",
    "c is a"
   ]
  },
  {
   "cell_type": "code",
   "execution_count": null,
   "id": "bbc8068a-e633-4845-b48e-8a4894a43814",
   "metadata": {},
   "outputs": [],
   "source": [
    "c.base is a"
   ]
  },
  {
   "cell_type": "code",
   "execution_count": null,
   "id": "f5162040-a586-4dcf-943d-ec00a6afa205",
   "metadata": {},
   "outputs": [],
   "source": [
    "b[0]=0\n",
    "a"
   ]
  },
  {
   "cell_type": "markdown",
   "id": "9da8e5f2",
   "metadata": {},
   "source": [
    "If you want a copy instead"
   ]
  },
  {
   "cell_type": "code",
   "execution_count": null,
   "id": "b1c0f6db-f683-461b-a7e4-c592b99df95d",
   "metadata": {
    "tags": []
   },
   "outputs": [],
   "source": [
    "b=a.reshape((3,1)).copy()\n",
    "b"
   ]
  },
  {
   "cell_type": "code",
   "execution_count": null,
   "id": "09c38fb5-1722-48a3-abb3-0cf41d66f419",
   "metadata": {},
   "outputs": [],
   "source": [
    "b[0]=1\n",
    "a"
   ]
  },
  {
   "cell_type": "code",
   "execution_count": null,
   "id": "f96c336d-fccc-4b45-b71b-d1c249dbcf5a",
   "metadata": {},
   "outputs": [],
   "source": [
    "A = np.array([[0,1,0],[1,0,1],[0,0,1]])\n",
    "A"
   ]
  },
  {
   "cell_type": "markdown",
   "id": "586ad725",
   "metadata": {},
   "source": [
    "Right matrix multiplication"
   ]
  },
  {
   "cell_type": "code",
   "execution_count": null,
   "id": "8f885df2-4a04-4e44-83f9-c5e5a4188216",
   "metadata": {},
   "outputs": [],
   "source": [
    "A@b"
   ]
  },
  {
   "cell_type": "markdown",
   "id": "d6e45c47",
   "metadata": {},
   "source": [
    "Left multiplication"
   ]
  },
  {
   "cell_type": "code",
   "execution_count": null,
   "id": "7dccecd2-c745-48d8-9195-49002fc88a32",
   "metadata": {},
   "outputs": [],
   "source": [
    "a@A"
   ]
  },
  {
   "cell_type": "markdown",
   "id": "6b54893d",
   "metadata": {},
   "source": [
    "Sandwiching"
   ]
  },
  {
   "cell_type": "code",
   "execution_count": null,
   "id": "a487aaec-51a4-4fcf-8381-1b7392808581",
   "metadata": {},
   "outputs": [],
   "source": [
    "a@A@b"
   ]
  },
  {
   "cell_type": "markdown",
   "id": "77771741",
   "metadata": {},
   "source": [
    "Releasing memory"
   ]
  },
  {
   "cell_type": "code",
   "execution_count": null,
   "id": "aa37f863-1fc3-45d7-ae61-f47b0cf68ccf",
   "metadata": {},
   "outputs": [],
   "source": [
    "del A"
   ]
  },
  {
   "cell_type": "markdown",
   "id": "ba942691-1c93-4294-85c8-4b1a9879defc",
   "metadata": {},
   "source": [
    "## Julia"
   ]
  },
  {
   "cell_type": "markdown",
   "id": "c68e3d43-64dc-494e-8f5b-7d9314748676",
   "metadata": {
    "tags": []
   },
   "source": [
    "### References\n",
    "\n",
    "**Main website**\n",
    "* https://julialang.org\n",
    "\n",
    "**Documentation**\n",
    "* https://en.wikibooks.org/wiki/Introducing_Julia\n",
    "* https://docs.julialang.org/en/v1/\n",
    "\n",
    "**Fast Track**\n",
    "* https://juliadocs.github.io/Julia-Cheat-Sheet/\n",
    "\n",
    "**Package ecosystem**\n",
    "* https://juliaobserver.com\n",
    "* https://juliacomputing.com/products/juliapro/\n",
    "\n",
    "**Installation**\n",
    "* You can add a Julia kernel to Jupyter, works like for Python"
   ]
  }
 ],
 "metadata": {
  "_draft": {
   "nbviewer_url": "https://gist.github.com/profsahakian/5885c95a63f5946da2fa1c1a47f44442"
  },
  "gist": {
   "data": {
    "description": "lectures/W1/C1.ipynb",
    "public": true
   },
   "id": "5885c95a63f5946da2fa1c1a47f44442"
  },
  "kernelspec": {
   "display_name": "Python 3 (ipykernel)",
   "language": "python",
   "name": "python3"
  },
  "language_info": {
   "codemirror_mode": {
    "name": "ipython",
    "version": 3
   },
   "file_extension": ".py",
   "mimetype": "text/x-python",
   "name": "python",
   "nbconvert_exporter": "python",
   "pygments_lexer": "ipython3",
   "version": "3.11.7"
  },
  "varInspector": {
   "cols": {
    "lenName": 16,
    "lenType": 16,
    "lenVar": 40
   },
   "kernels_config": {
    "python": {
     "delete_cmd_postfix": "",
     "delete_cmd_prefix": "del ",
     "library": "var_list.py",
     "varRefreshCmd": "print(var_dic_list())"
    },
    "r": {
     "delete_cmd_postfix": ") ",
     "delete_cmd_prefix": "rm(",
     "library": "var_list.r",
     "varRefreshCmd": "cat(var_dic_list()) "
    }
   },
   "types_to_exclude": [
    "module",
    "function",
    "builtin_function_or_method",
    "instance",
    "_Feature"
   ],
   "window_display": false
  }
 },
 "nbformat": 4,
 "nbformat_minor": 5
}
